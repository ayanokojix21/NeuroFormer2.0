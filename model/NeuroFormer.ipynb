{
  "nbformat": 4,
  "nbformat_minor": 0,
  "metadata": {
    "colab": {
      "provenance": []
    },
    "kernelspec": {
      "name": "python3",
      "display_name": "Python 3"
    },
    "language_info": {
      "name": "python"
    }
  },
  "cells": [
    {
      "cell_type": "markdown",
      "source": [
        "# NeuroFormer\n",
        "\n",
        "**NeuroFormer** is a **modular Transformer architecture** built from scratch in PyTorch."
      ],
      "metadata": {
        "id": "DVeB0TD_Nmv3"
      }
    },
    {
      "cell_type": "code",
      "execution_count": null,
      "metadata": {
        "id": "EDSaRfEfNZU0"
      },
      "outputs": [],
      "source": [
        "# Importing Libraries\n",
        "import math\n",
        "import torch\n",
        "import torch.nn as nn\n",
        "import torch.nn.functional as F"
      ]
    },
    {
      "cell_type": "code",
      "source": [
        "# Setting Device to GPU\n",
        "device = 'cuda' if torch.cuda.is_available() else 'cpu'\n",
        "device"
      ],
      "metadata": {
        "colab": {
          "base_uri": "https://localhost:8080/",
          "height": 36
        },
        "id": "nN1Y9-Y6NyTN",
        "outputId": "03df5479-80c9-4812-a5c1-dcbdf857b900"
      },
      "execution_count": null,
      "outputs": [
        {
          "output_type": "execute_result",
          "data": {
            "text/plain": [
              "'cpu'"
            ],
            "application/vnd.google.colaboratory.intrinsic+json": {
              "type": "string"
            }
          },
          "metadata": {},
          "execution_count": 2
        }
      ]
    },
    {
      "cell_type": "markdown",
      "source": [
        "## Scaled Dot Product Attention\n",
        "\n",
        "$$\n",
        "\\text{Attention}(Q, K, V) = \\text{softmax}\\left( \\frac{QK^T}{\\sqrt{d_k}} \\right) V\n",
        "$$\n",
        "\n",
        "- $Q$ -> It represents the query vector, or what the model is searching for\n",
        "- $K$ -> It represents the key vector, or all the words in the input sequence and is used to compare against query\n",
        "- $V$ -> It represents the value vector, the actual meaning of each word in the sentence.\n",
        "- $d_k$ -> Dimetionality of the Query/Key vector used for Scaling\n",
        "- $QK^T$ -> To find to similarity between the query vector and key vector"
      ],
      "metadata": {
        "id": "PA9LouO1OKAy"
      }
    },
    {
      "cell_type": "code",
      "source": [
        "def scaled_dot_product_attention(q, k, v, is_causal=True):\n",
        "    d_k = q.size()[-1] # head_dim\n",
        "    dot_product = torch.matmul(q, k.transpose(-1, -2)) # q: [B, num_heads, T, head_dim], kᵀ: [B, num_heads, head_dim, T], q @ kᵀ: [B, num_heads, T, T]\n",
        "    scaled = dot_product / math.sqrt(d_k) # [B, num_heads, T, T]\n",
        "\n",
        "    if is_causal:\n",
        "        seq_len = q.size(-2)\n",
        "        causal_mask = torch.tril(torch.ones(seq_len, seq_len, device=q.device, dtype=torch.bool))\n",
        "        scaled = scaled.masked_fill(~causal_mask, float('-inf'))\n",
        "\n",
        "    scaled = scaled.clamp(min=-1e9, max=1e9)\n",
        "    attention = F.softmax(scaled, dim=-1) # attention: [B, num_heads, T, T]\n",
        "    values = torch.matmul(attention, v) # v: [B, num_heads, T, head_dim] , Values: [B, num_heads, T, head_dim]\n",
        "\n",
        "    return attention, values"
      ],
      "metadata": {
        "id": "xm-D9wt3ODbs"
      },
      "execution_count": null,
      "outputs": []
    },
    {
      "cell_type": "markdown",
      "source": [
        "## Multi-Head Attention\n",
        "\n",
        "$$MultiHead(Q, K, V) = Concat(head₁, ..., headₕ) · Wᵒ$$\n",
        "$$headᵢ = Attention(Q · Wᵢ^Q, K · Wᵢ^K, V · Wᵢ^V)$$\n",
        "\n",
        "### Multi-Head Attention splits the model into multiple **heads** that learns different types of relationship between the data.\n",
        "\n",
        "### Each individual head performs seperate scaled dot product attention independently and they improve the training speed through Parallelism.\n"
      ],
      "metadata": {
        "id": "u0UekmvjPfH8"
      }
    },
    {
      "cell_type": "code",
      "source": [
        "class MultiHeadAttention(nn.Module):\n",
        "\n",
        "    def __init__(self, d_model, num_heads, drop_prob=0.1):\n",
        "        super().__init__()\n",
        "        self.d_model = d_model # Dimentions of Input Embeddings\n",
        "        self.num_heads = num_heads # Number of Heads in Multi-Head Attention\n",
        "        self.head_dim = d_model // num_heads # Dimentions of Embedding Passed in each Head\n",
        "        self.qkv_layer = nn.Linear(d_model, 3 * d_model) # Projects Input as Query, Key and Value\n",
        "        self.linear_layer = nn.Linear(d_model, d_model) # Returns output dimentions same as input embedding\n",
        "        self.dropout = nn.Dropout(p=drop_prob) # Dropout Layer\n",
        "\n",
        "    def forward(self, x):\n",
        "        batch_size, sequence_length, d_model = x.size() # [B, T, d_model]\n",
        "        qkv = self.qkv_layer(x) # [B, T, 3 * d_model]\n",
        "\n",
        "        # Reshape and split into Q, K, V\n",
        "        qkv = qkv.reshape(batch_size, sequence_length, self.num_heads, 3 * self.head_dim)\n",
        "        qkv = qkv.permute(0, 2, 1, 3) # [B, num_heads, T, 3 * head_dim]\n",
        "\n",
        "        q, k, v = qkv.chunk(3, dim=-1) # Each: [B, num_heads, T, head_dim]\n",
        "\n",
        "        # Apply causal attention\n",
        "        attention, values = scaled_dot_product_attention(q, k, v, is_causal=True)\n",
        "\n",
        "        # Combine heads\n",
        "        values = values.transpose(1, 2).contiguous() # [B, T, num_heads, head_dim]\n",
        "        values = values.reshape(batch_size, sequence_length, d_model) # [B, T, d_model]\n",
        "\n",
        "        out = self.linear_layer(values)\n",
        "        out = self.dropout(out)\n",
        "        return out"
      ],
      "metadata": {
        "id": "zlzxIgqUPelf"
      },
      "execution_count": null,
      "outputs": []
    },
    {
      "cell_type": "markdown",
      "source": [
        "## Layer Normalization\n",
        "$$\n",
        "\\text{LayerNorm}(x) = \\gamma \\cdot \\left( \\frac{x - \\mu}{\\sqrt{\\sigma^2 + \\varepsilon}} \\right) + \\beta\n",
        "$$\n",
        "Layer Normalization is a technique used to **stabilize** and **accelerate training** by normalizing the inputs across the features of each sample.\n",
        "**Applies per sample** across **features** (unlike BatchNorm which operates across the batch)."
      ],
      "metadata": {
        "id": "ZF7H_J0RRybg"
      }
    },
    {
      "cell_type": "code",
      "source": [
        "class LayerNormalization(nn.Module):\n",
        "\n",
        "    def __init__(self, d_model, eps=1e-5):\n",
        "        super().__init__()\n",
        "        self.eps = eps\n",
        "        self.d_model = d_model\n",
        "        self.gamma = nn.Parameter(torch.ones(d_model)) # Learnable Parameter\n",
        "        self.beta = nn.Parameter(torch.zeros(d_model)) # Learnable Parameter\n",
        "\n",
        "    def forward(self, x):\n",
        "        mean = x.mean(dim=-1, keepdim=True) # Mean\n",
        "        var = ((x - mean) ** 2).mean(dim=-1, keepdim=True) # Variance\n",
        "        std = (var + self.eps).sqrt() # Standard Deviation : eps is added to avoid division by 0\n",
        "\n",
        "        y = (x - mean) / std # Output\n",
        "        out = self.gamma * y + self.beta # Applying Learnable Parameters\n",
        "        return out"
      ],
      "metadata": {
        "id": "tjJLsLbURvAe"
      },
      "execution_count": null,
      "outputs": []
    },
    {
      "cell_type": "markdown",
      "source": [
        "## Position-wise Feed Forward\n",
        "$$FFN(x) = max(0, x · W₁ + b₁) · W₂ + b₂$$\n",
        "- In Transformers, each token’s representation is passed through a feed-forward neural network independently and identically.\n",
        "\n",
        "- This is known as a Positionwise Feed-Forward Network (FFN) because it operates separately on each position (token) in the sequence."
      ],
      "metadata": {
        "id": "L7z7YxtKSTRq"
      }
    },
    {
      "cell_type": "code",
      "source": [
        "class PositionWiseFeedForward(nn.Module):\n",
        "\n",
        "    def __init__(self, d_model, hidden, drop_prob=0.1):\n",
        "        super().__init__()\n",
        "        self.linear1 = nn.Linear(d_model, hidden)\n",
        "        self.linear2 = nn.Linear(hidden, d_model)\n",
        "        self.gelu = nn.GELU()\n",
        "        self.dropout = nn.Dropout(p=drop_prob)\n",
        "\n",
        "    def forward(self, x):\n",
        "        x = self.linear1(x)\n",
        "        x = self.gelu(x)\n",
        "        x = self.dropout(x)\n",
        "        x = self.linear2(x)\n",
        "        return x"
      ],
      "metadata": {
        "id": "d2VPV7QaSRrP"
      },
      "execution_count": null,
      "outputs": []
    },
    {
      "cell_type": "markdown",
      "source": [
        "## Positional Encoding\n",
        "\n",
        "- The input in attention mechanism is passed all at once and is generally **non auto-regressive** in nature.\n",
        "- The positionl Encoding help the sentence to get the idea of order otherwise it will treat \"I Love You\" and \"You Love I\" as **same**."
      ],
      "metadata": {
        "id": "-0xYDRInTFn5"
      }
    },
    {
      "cell_type": "code",
      "source": [
        "class PositionalEncoding(nn.Module):\n",
        "\n",
        "  def __init__(self, sequence_length, d_model, drop_prob=0.1):\n",
        "    super().__init__()\n",
        "    self.pos_embedding = nn.Embedding(sequence_length, d_model) # [T, d_model]\n",
        "    self.dropout = nn.Dropout(p = drop_prob)\n",
        "\n",
        "  def forward(self, x):\n",
        "\n",
        "    batch_size, sequence_length, d_model = x.size() # [B, T, d_model]\n",
        "    positions = torch.arange(sequence_length, device=x.device) # [T]\n",
        "    positions = positions.unsqueeze(0) # [1, T]\n",
        "    pos_emb = self.pos_embedding(positions) # [1, T, d_model]\n",
        "\n",
        "    x = x + pos_emb # [B, T, d_model] Broadcast Addition\n",
        "    x = self.dropout(x)\n",
        "    return x"
      ],
      "metadata": {
        "id": "nhFNtAcFTFOY"
      },
      "execution_count": null,
      "outputs": []
    },
    {
      "cell_type": "markdown",
      "source": [
        "# Decoder Block"
      ],
      "metadata": {
        "id": "55hTcZGHVDwY"
      }
    },
    {
      "cell_type": "code",
      "source": [
        "class DecoderBlock(nn.Module):\n",
        "\n",
        "    def __init__(self, d_model, num_heads, hidden, drop_prob=0.1):\n",
        "        super().__init__()\n",
        "\n",
        "        self.norm1 = LayerNormalization(d_model)\n",
        "        self.self_attention = MultiHeadAttention(d_model, num_heads, drop_prob)\n",
        "\n",
        "        self.norm2 = LayerNormalization(d_model)\n",
        "        self.ffn = PositionWiseFeedForward(d_model, hidden, drop_prob)\n",
        "\n",
        "    def forward(self, x):\n",
        "        x = x + self.self_attention(self.norm1(x))\n",
        "        x = x + self.ffn(self.norm2(x))\n",
        "        return x"
      ],
      "metadata": {
        "id": "1BF1KsxmTU3Q"
      },
      "execution_count": null,
      "outputs": []
    },
    {
      "cell_type": "markdown",
      "source": [
        "# NeuroFormer Decoder"
      ],
      "metadata": {
        "id": "iib5rcs6W0tw"
      }
    },
    {
      "cell_type": "code",
      "source": [
        "class GPTDecoder(nn.Module):\n",
        "\n",
        "    def __init__(self, vocab_size, sequence_length, d_model, num_heads, hidden, num_layers, drop_prob=0.1):\n",
        "        super().__init__()\n",
        "        self.d_model = d_model\n",
        "        self.sequence_length = sequence_length\n",
        "\n",
        "        # Embeddings\n",
        "        self.token_embedding = nn.Embedding(vocab_size, d_model)\n",
        "        self.pos_encoding = PositionalEncoding(sequence_length, d_model, drop_prob)\n",
        "\n",
        "        # Initialize embeddings\n",
        "        nn.init.normal_(self.token_embedding.weight, mean=0.0, std=0.02)\n",
        "\n",
        "        # Transformer blocks\n",
        "        self.layers = nn.ModuleList([\n",
        "            DecoderBlock(d_model, num_heads, hidden, drop_prob)\n",
        "            for _ in range(num_layers)\n",
        "        ])\n",
        "\n",
        "        # Final layer norm and output projection\n",
        "        self.final_norm = LayerNormalization(d_model)\n",
        "        self.lm_head = nn.Linear(d_model, vocab_size, bias=False)\n",
        "        self.lm_head.weight = self.token_embedding.weight\n",
        "\n",
        "    def forward(self, input_ids):\n",
        "\n",
        "        x = self.token_embedding(input_ids) * math.sqrt(self.d_model)\n",
        "        x = self.pos_encoding(x)\n",
        "\n",
        "        for layer in self.layers:\n",
        "            x = layer(x)\n",
        "\n",
        "        x = self.final_norm(x)\n",
        "        logits = self.lm_head(x)\n",
        "        return logits\n",
        "\n",
        "    def generate(self, input_ids, max_length=100, temperature=1.0, top_k=None, top_p=None, eos_token_id=None):\n",
        "\n",
        "        self.eval()\n",
        "        with torch.no_grad():\n",
        "            for _ in range(max_length):\n",
        "\n",
        "                logits = self.forward(input_ids)\n",
        "                next_token_logits = logits[:, -1, :] / temperature\n",
        "\n",
        "                if top_k is not None:\n",
        "                    top_k_logits, top_k_indices = torch.topk(next_token_logits, top_k)\n",
        "                    next_token_logits = torch.full_like(next_token_logits, float('-inf'))\n",
        "                    next_token_logits.scatter_(1, top_k_indices, top_k_logits)\n",
        "\n",
        "                if top_p is not None and top_p > 0.0:\n",
        "                    sorted_logits, sorted_indices = torch.sort(next_token_logits, descending=True)\n",
        "                    cumulative_probs = torch.cumsum(F.softmax(sorted_logits, dim=-1), dim=-1)\n",
        "\n",
        "                    sorted_indices_to_remove = cumulative_probs > top_p\n",
        "                    sorted_indices_to_remove[:, 1:] = sorted_indices_to_remove[:, :-1].clone()\n",
        "                    sorted_indices_to_remove[:, 0] = 0\n",
        "\n",
        "                    indices_to_remove = sorted_indices[sorted_indices_to_remove]\n",
        "                    next_token_logits[:, indices_to_remove] = float('-inf')\n",
        "\n",
        "                probs = F.softmax(next_token_logits, dim=-1)\n",
        "                next_token = torch.multinomial(probs, num_samples=1)\n",
        "\n",
        "                if eos_token_id is not None and next_token.item() == eos_token_id:\n",
        "                    input_ids = torch.cat([input_ids, next_token], dim=1)\n",
        "                    break\n",
        "\n",
        "                input_ids = torch.cat([input_ids, next_token], dim=1)\n",
        "\n",
        "                if input_ids.size(1) > self.sequence_length:\n",
        "                    input_ids = input_ids[:, -self.sequence_length:]\n",
        "\n",
        "        return input_ids"
      ],
      "metadata": {
        "id": "e0vJiIB8Vd4M"
      },
      "execution_count": null,
      "outputs": []
    },
    {
      "cell_type": "markdown",
      "source": [
        "# NeuroFormer Wrapper Class"
      ],
      "metadata": {
        "id": "ifQkMPJVYffW"
      }
    },
    {
      "cell_type": "code",
      "source": [
        "class NeuroFormer(nn.Module):\n",
        "\n",
        "    def __init__(self, vocab_size, sequence_length, d_model=512, num_heads=8, hidden=2048, num_layers=6, drop_prob=0.1):\n",
        "        super().__init__()\n",
        "        self.model = GPTDecoder(vocab_size, sequence_length, d_model, num_heads, hidden, num_layers, drop_prob)\n",
        "\n",
        "    def forward(self, input_ids):\n",
        "        return self.model(input_ids)\n",
        "\n",
        "    def generate(self, input_ids, max_length=100, temperature=1.0, top_k=50, top_p=0.9, eos_token_id=None):\n",
        "        return self.model.generate(input_ids, max_length, temperature, top_k, top_p, eos_token_id)"
      ],
      "metadata": {
        "id": "PFvcsjN8Ye4d"
      },
      "execution_count": null,
      "outputs": []
    },
    {
      "cell_type": "code",
      "source": [
        "vocab_size = 10000\n",
        "sequence_length = 256\n",
        "d_model = 256\n",
        "num_heads = 8\n",
        "hidden = 1024\n",
        "num_layers = 6\n",
        "drop_prob = 0.1\n",
        "\n",
        "gpt_model = NeuroFormer(\n",
        "    vocab_size=vocab_size,\n",
        "    sequence_length=sequence_length,\n",
        "    d_model=d_model,\n",
        "    num_heads=num_heads,\n",
        "    hidden=hidden,\n",
        "    num_layers=num_layers,\n",
        "    drop_prob=drop_prob\n",
        ")\n",
        "\n",
        "print(f\"NeuroFormer parameters: {sum(p.numel() for p in gpt_model.parameters()):,}\")"
      ],
      "metadata": {
        "colab": {
          "base_uri": "https://localhost:8080/"
        },
        "id": "rwk283dAZC-R",
        "outputId": "cd805fbf-031a-4170-a56d-0b6a712f325e"
      },
      "execution_count": null,
      "outputs": [
        {
          "output_type": "stream",
          "name": "stdout",
          "text": [
            "NeuroFormer parameters: 7,364,608\n"
          ]
        }
      ]
    },
    {
      "cell_type": "code",
      "source": [],
      "metadata": {
        "id": "tgJDv2l3Zsg4"
      },
      "execution_count": null,
      "outputs": []
    }
  ]
}
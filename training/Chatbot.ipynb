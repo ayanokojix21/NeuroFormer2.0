{
  "nbformat": 4,
  "nbformat_minor": 0,
  "metadata": {
    "colab": {
      "provenance": [],
      "gpuType": "T4"
    },
    "kernelspec": {
      "name": "python3",
      "display_name": "Python 3"
    },
    "language_info": {
      "name": "python"
    },
    "accelerator": "GPU"
  },
  "cells": [
    {
      "cell_type": "code",
      "execution_count": null,
      "metadata": {
        "colab": {
          "base_uri": "https://localhost:8080/"
        },
        "id": "phHmG11cX0jL",
        "outputId": "0d79a67a-79a2-4a69-a093-f0b2667d7ea6"
      },
      "outputs": [
        {
          "output_type": "stream",
          "name": "stdout",
          "text": [
            "Cloning into 'NeuroFormer2.0'...\n",
            "remote: Enumerating objects: 68, done.\u001b[K\n",
            "remote: Total 68 (delta 0), reused 0 (delta 0), pack-reused 68 (from 1)\u001b[K\n",
            "Receiving objects: 100% (68/68), 76.51 MiB | 14.34 MiB/s, done.\n",
            "Resolving deltas: 100% (20/20), done.\n"
          ]
        }
      ],
      "source": [
        "! GIT_LFS_SKIP_SMUDGE=1 git clone https://github.com/ayanokojix21/NeuroFormer2.0.git"
      ]
    },
    {
      "cell_type": "code",
      "source": [
        "%cd NeuroFormer2.0"
      ],
      "metadata": {
        "colab": {
          "base_uri": "https://localhost:8080/"
        },
        "id": "uf_RrpZ1bDOc",
        "outputId": "b3e11a09-7ab0-4137-debb-ff16dd28d254"
      },
      "execution_count": null,
      "outputs": [
        {
          "output_type": "stream",
          "name": "stdout",
          "text": [
            "/content/NeuroFormer2.0\n"
          ]
        }
      ]
    },
    {
      "cell_type": "code",
      "source": [
        "# Importing Libraries\n",
        "import torch\n",
        "import torch.nn as nn\n",
        "import torch.optim as optim\n",
        "from torch.optim.lr_scheduler import ReduceLROnPlateau\n",
        "import os\n",
        "import matplotlib.pyplot as plt\n",
        "import json"
      ],
      "metadata": {
        "id": "wH-3mvuxb7XX"
      },
      "execution_count": null,
      "outputs": []
    },
    {
      "cell_type": "code",
      "source": [
        "from model.neuroformer import NeuroFormer\n",
        "from data.dataloader import load_data\n",
        "from tokenizers import Tokenizer"
      ],
      "metadata": {
        "id": "mfsiGjl3oh9e"
      },
      "execution_count": null,
      "outputs": []
    },
    {
      "cell_type": "code",
      "source": [
        "# Setting Device to GPU\n",
        "device = torch.device('cuda' if torch.cuda.is_available() else 'cpu')\n",
        "device"
      ],
      "metadata": {
        "colab": {
          "base_uri": "https://localhost:8080/"
        },
        "id": "rHICWy9LoxQj",
        "outputId": "8b5132ef-089a-4c89-c5f6-4b01a279c04c"
      },
      "execution_count": null,
      "outputs": [
        {
          "output_type": "execute_result",
          "data": {
            "text/plain": [
              "device(type='cuda')"
            ]
          },
          "metadata": {},
          "execution_count": 5
        }
      ]
    },
    {
      "cell_type": "code",
      "source": [
        "# For Reproducibility\n",
        "torch.manual_seed(42)\n",
        "if torch.cuda.is_available():\n",
        "    torch.cuda.manual_seed(42)"
      ],
      "metadata": {
        "id": "E1C3xfQZo7Vs"
      },
      "execution_count": null,
      "outputs": []
    },
    {
      "cell_type": "code",
      "source": [
        "# Loading Custom trained tokenizer\n",
        "tokenizer = Tokenizer.from_file(\"tokenizer/bpe_tokenizer.json\")\n",
        "vocab_size = tokenizer.get_vocab_size()\n",
        "print(f\"Loaded tokenizer with vocab size: {vocab_size}\")"
      ],
      "metadata": {
        "colab": {
          "base_uri": "https://localhost:8080/"
        },
        "id": "3fmIuH3Co-8P",
        "outputId": "b9c3cd7f-fb40-42d8-85ac-6721fcd3952d"
      },
      "execution_count": null,
      "outputs": [
        {
          "output_type": "stream",
          "name": "stdout",
          "text": [
            "Loaded tokenizer with vocab size: 2000\n"
          ]
        }
      ]
    },
    {
      "cell_type": "code",
      "source": [
        "# Getting Special Token Ids\n",
        "special_tokens = {\n",
        "    'pad_id': tokenizer.token_to_id(\"<pad>\"),\n",
        "    'unk_id': tokenizer.token_to_id(\"<unk>\"),\n",
        "    'bos_id': tokenizer.token_to_id(\"<bos>\"),\n",
        "    'eos_id': tokenizer.token_to_id(\"<eos>\"),\n",
        "    'user_id': tokenizer.token_to_id(\"<user>\"),\n",
        "    'assistant_id': tokenizer.token_to_id(\"<assistant>\")\n",
        "}\n",
        "print(f\"Special tokens: {special_tokens}\")"
      ],
      "metadata": {
        "colab": {
          "base_uri": "https://localhost:8080/"
        },
        "id": "Ii5fX3WTpCxX",
        "outputId": "8ca34221-dc6d-47c9-de9b-b2f291cfef95"
      },
      "execution_count": null,
      "outputs": [
        {
          "output_type": "stream",
          "name": "stdout",
          "text": [
            "Special tokens: {'pad_id': 1994, 'unk_id': 1995, 'bos_id': 1996, 'eos_id': 1997, 'user_id': 1998, 'assistant_id': 1999}\n"
          ]
        }
      ]
    },
    {
      "cell_type": "code",
      "source": [
        "# Model HyperParameters\n",
        "vocab_size = vocab_size\n",
        "sequence_length = 512\n",
        "d_model = 512\n",
        "num_heads = 8\n",
        "hidden = 4 * d_model\n",
        "num_layers = 6\n",
        "drop_prob = 0.2"
      ],
      "metadata": {
        "id": "U0D26ZXApPoO"
      },
      "execution_count": null,
      "outputs": []
    },
    {
      "cell_type": "code",
      "source": [
        "# Training HyperParameters\n",
        "batch_size = 32\n",
        "total_steps = 2000\n",
        "lr = 1e-4\n",
        "weight_decay = 0.01\n",
        "max_grad_norm = 1.0\n",
        "eval_interval = 100\n",
        "best_model_path = 'model/best_model.pt'\n",
        "os.makedirs('model', exist_ok=True)"
      ],
      "metadata": {
        "id": "mRSCUK_WqIX8"
      },
      "execution_count": null,
      "outputs": []
    },
    {
      "cell_type": "code",
      "source": [
        "train_path = 'data/chatbot_train.txt'\n",
        "valid_path = 'data/chatbot_valid.txt'\n",
        "\n",
        "with open(train_path, 'r', encoding='utf-8') as f:\n",
        "    train_text = f.read()\n",
        "\n",
        "with open(valid_path, 'r', encoding='utf-8') as f:\n",
        "    valid_text = f.read()"
      ],
      "metadata": {
        "id": "XkQO9PgAsIpP"
      },
      "execution_count": null,
      "outputs": []
    },
    {
      "cell_type": "code",
      "source": [
        "train_loader = load_data(\n",
        "    text=train_text,\n",
        "    tokenizer=tokenizer,\n",
        "    batch_size=batch_size,\n",
        "    max_length=sequence_length,\n",
        "    stride=sequence_length // 16,\n",
        "    shuffle=True,\n",
        "    drop_last=True\n",
        ")\n",
        "\n",
        "valid_loader = load_data(\n",
        "    text=valid_text,\n",
        "    tokenizer=tokenizer,\n",
        "    batch_size=batch_size,\n",
        "    max_length=sequence_length,\n",
        "    stride=sequence_length // 16,\n",
        "    shuffle=False,\n",
        "    drop_last=False\n",
        ")\n",
        "\n",
        "print(f\"Training batches: {len(train_loader)}\")\n",
        "print(f\"Validation batches: {len(valid_loader)}\")"
      ],
      "metadata": {
        "colab": {
          "base_uri": "https://localhost:8080/"
        },
        "id": "I9zYmAV8tNrZ",
        "outputId": "7dbb9aca-2165-4a54-d1b1-c2fef6f1f0f5"
      },
      "execution_count": null,
      "outputs": [
        {
          "output_type": "stream",
          "name": "stdout",
          "text": [
            "Training batches: 2252\n",
            "Validation batches: 191\n"
          ]
        }
      ]
    },
    {
      "cell_type": "code",
      "source": [
        "model = NeuroFormer(\n",
        "    vocab_size=vocab_size,\n",
        "    sequence_length=sequence_length,\n",
        "    d_model=d_model,\n",
        "    num_heads=num_heads,\n",
        "    hidden=hidden,\n",
        "    num_layers=num_layers,\n",
        "    drop_prob=drop_prob\n",
        ").to(device)\n",
        "\n",
        "total_params = sum(p.numel() for p in model.parameters())\n",
        "print(f\"Total parameters: {total_params:,}\")"
      ],
      "metadata": {
        "colab": {
          "base_uri": "https://localhost:8080/"
        },
        "id": "MX2lZtJAtVJw",
        "outputId": "2607fba6-7738-41b6-aa7f-f689f6e7717a"
      },
      "execution_count": null,
      "outputs": [
        {
          "output_type": "stream",
          "name": "stdout",
          "text": [
            "Total parameters: 20,201,472\n"
          ]
        }
      ]
    },
    {
      "cell_type": "code",
      "source": [
        "checkpoint_path = '/content/shakespeare.pt'\n",
        "model.load_state_dict(torch.load(checkpoint_path, map_location=device, weights_only=False))"
      ],
      "metadata": {
        "colab": {
          "base_uri": "https://localhost:8080/"
        },
        "id": "kNNZJ0PIJ0ZJ",
        "outputId": "0f0513bc-b0c4-4d95-d4a2-535bf1fdae1e"
      },
      "execution_count": null,
      "outputs": [
        {
          "output_type": "execute_result",
          "data": {
            "text/plain": [
              "<All keys matched successfully>"
            ]
          },
          "metadata": {},
          "execution_count": 37
        }
      ]
    },
    {
      "cell_type": "code",
      "source": [
        "for i, layer in enumerate(model.model.layers):\n",
        "    if i < 2:\n",
        "        for param in layer.parameters():\n",
        "            param.requires_grad = False"
      ],
      "metadata": {
        "id": "cCFLHI6lJ4GN"
      },
      "execution_count": null,
      "outputs": []
    },
    {
      "cell_type": "code",
      "source": [
        "optimizer = optim.AdamW(model.parameters(), lr=lr, weight_decay=weight_decay)\n",
        "criterion = nn.CrossEntropyLoss(ignore_index=special_tokens['pad_id'])\n",
        "\n",
        "lr_scheduler = ReduceLROnPlateau(\n",
        "    optimizer,\n",
        "    mode='min',\n",
        "    factor=0.5,\n",
        "    patience=2,\n",
        "    threshold=3e-4,\n",
        "    min_lr=1e-6,\n",
        ")"
      ],
      "metadata": {
        "id": "ixI5Wz_tupw4"
      },
      "execution_count": null,
      "outputs": []
    },
    {
      "cell_type": "code",
      "source": [
        "def evaluate_model():\n",
        "    \"\"\"Evaluate model on validation set\"\"\"\n",
        "\n",
        "    model.eval()\n",
        "    total_loss = 0.0\n",
        "\n",
        "    with torch.no_grad():\n",
        "        for input_ids, target_ids in valid_loader:\n",
        "            input_ids = input_ids.to(device)\n",
        "            target_ids = target_ids.to(device)\n",
        "\n",
        "            logits = model(input_ids)\n",
        "            loss = criterion(logits.view(-1, logits.size(-1)), target_ids.view(-1))\n",
        "\n",
        "            total_loss += loss.item()\n",
        "\n",
        "    avg_loss = total_loss / len(valid_loader)\n",
        "\n",
        "    return avg_loss"
      ],
      "metadata": {
        "id": "GHYdzWpaw1qR"
      },
      "execution_count": null,
      "outputs": []
    },
    {
      "cell_type": "code",
      "source": [
        "def train_model():\n",
        "    \"\"\"Main training loop\"\"\"\n",
        "\n",
        "    model.train()\n",
        "    best_val_loss = float('inf')\n",
        "    step = 0\n",
        "\n",
        "    train_losses, val_losses, val_steps = [], [], []\n",
        "\n",
        "    while step < total_steps:\n",
        "        for input_ids, target_ids in train_loader:\n",
        "            if step >= total_steps:\n",
        "                break\n",
        "\n",
        "            input_ids = input_ids.to(device)\n",
        "            target_ids = target_ids.to(device)\n",
        "\n",
        "            optimizer.zero_grad()\n",
        "            logits = model(input_ids)\n",
        "            loss = criterion(logits.view(-1, logits.size(-1)), target_ids.view(-1))\n",
        "\n",
        "            loss.backward()\n",
        "            torch.nn.utils.clip_grad_norm_(model.parameters(), max_grad_norm)\n",
        "            optimizer.step()\n",
        "\n",
        "            train_losses.append(loss.item())\n",
        "\n",
        "            if step % eval_interval == 0 or step == total_steps-1:\n",
        "                val_loss = evaluate_model()\n",
        "                val_losses.append(val_loss)\n",
        "                val_steps.append(step)\n",
        "\n",
        "                model.train()\n",
        "\n",
        "                print(f\"Step {step:4d} | Val Loss: {val_loss:.4f} | LR: {optimizer.param_groups[0]['lr']:.6f}\")\n",
        "\n",
        "                lr_scheduler.step(val_loss)\n",
        "\n",
        "                if val_loss < best_val_loss:\n",
        "                    best_val_loss = val_loss\n",
        "                    torch.save(model.state_dict(), best_model_path)\n",
        "                    print(f\"Best model saved Val Loss: {val_loss:.4f}\")\n",
        "\n",
        "            step += 1\n",
        "\n",
        "    return train_losses, val_losses, val_steps"
      ],
      "metadata": {
        "id": "B3kquGBi3CVj"
      },
      "execution_count": null,
      "outputs": []
    },
    {
      "cell_type": "code",
      "source": [
        "def visualize(train_losses, val_losses, val_steps):\n",
        "    plt.plot(train_losses, label='Train Loss')\n",
        "    plt.plot(val_steps, val_losses, label='Val Loss')\n",
        "    plt.xlabel('Steps')\n",
        "    plt.ylabel('Loss')\n",
        "    plt.title('Training and Validation Loss')\n",
        "    plt.legend()\n",
        "    plt.show()"
      ],
      "metadata": {
        "id": "q9eT3YTu4ysn"
      },
      "execution_count": null,
      "outputs": []
    },
    {
      "cell_type": "code",
      "source": [
        "def test_generation():\n",
        "    \"\"\"Test text generation after training\"\"\"\n",
        "\n",
        "    model.eval()\n",
        "\n",
        "    if os.path.exists(best_model_path):\n",
        "        model.load_state_dict(torch.load(best_model_path, map_location=device))\n",
        "\n",
        "    test_prompts = [\n",
        "        \"<user>Hello, how are you?\",\n",
        "        \"<user>What's the weather like?\",\n",
        "        \"<user>Tell me a joke\"\n",
        "    ]\n",
        "\n",
        "    for prompt in test_prompts:\n",
        "\n",
        "        full_prompt = f\"<bos>{prompt}\"\n",
        "        encoded = tokenizer.encode(full_prompt)\n",
        "        input_ids = torch.tensor([encoded.ids], dtype=torch.long).to(device)\n",
        "\n",
        "        with torch.no_grad():\n",
        "            generated = model.generate(\n",
        "                input_ids=input_ids,\n",
        "                max_length=500,\n",
        "                temperature=1.3,\n",
        "                top_k=100,\n",
        "                top_p=0.9,\n",
        "                eos_token_id=special_tokens['eos_id']\n",
        "            )\n",
        "\n",
        "        generated_text = tokenizer.decode(generated[0].cpu().tolist())\n",
        "        print(f\"Prompt: '{prompt}'\")\n",
        "        print(f\"Generated: '{generated_text}'\\n\")"
      ],
      "metadata": {
        "id": "fGjigAU45y7_"
      },
      "execution_count": null,
      "outputs": []
    },
    {
      "cell_type": "code",
      "source": [
        "train_losses, val_losses, val_steps = train_model()"
      ],
      "metadata": {
        "colab": {
          "base_uri": "https://localhost:8080/"
        },
        "id": "e3rtmYChH7j4",
        "outputId": "3ac7db3e-069e-4ea7-d83a-c24fb5834618"
      },
      "execution_count": 44,
      "outputs": [
        {
          "output_type": "stream",
          "name": "stdout",
          "text": [
            "Step    0 | Val Loss: 6.0676 | LR: 0.000100\n",
            "Best model saved Val Loss: 6.0676\n",
            "Step  100 | Val Loss: 3.0989 | LR: 0.000100\n",
            "Best model saved Val Loss: 3.0989\n",
            "Step  200 | Val Loss: 2.9071 | LR: 0.000100\n",
            "Best model saved Val Loss: 2.9071\n",
            "Step  300 | Val Loss: 2.8063 | LR: 0.000100\n",
            "Best model saved Val Loss: 2.8063\n",
            "Step  400 | Val Loss: 2.7211 | LR: 0.000100\n",
            "Best model saved Val Loss: 2.7211\n",
            "Step  500 | Val Loss: 2.6653 | LR: 0.000100\n",
            "Best model saved Val Loss: 2.6653\n",
            "Step  600 | Val Loss: 2.6247 | LR: 0.000100\n",
            "Best model saved Val Loss: 2.6247\n",
            "Step  700 | Val Loss: 2.5898 | LR: 0.000100\n",
            "Best model saved Val Loss: 2.5898\n",
            "Step  800 | Val Loss: 2.5579 | LR: 0.000100\n",
            "Best model saved Val Loss: 2.5579\n",
            "Step  900 | Val Loss: 2.5333 | LR: 0.000100\n",
            "Best model saved Val Loss: 2.5333\n",
            "Step 1000 | Val Loss: 2.5116 | LR: 0.000100\n",
            "Best model saved Val Loss: 2.5116\n",
            "Step 1100 | Val Loss: 2.4878 | LR: 0.000100\n",
            "Best model saved Val Loss: 2.4878\n",
            "Step 1200 | Val Loss: 2.4713 | LR: 0.000100\n",
            "Best model saved Val Loss: 2.4713\n",
            "Step 1300 | Val Loss: 2.4531 | LR: 0.000100\n",
            "Best model saved Val Loss: 2.4531\n",
            "Step 1400 | Val Loss: 2.4361 | LR: 0.000100\n",
            "Best model saved Val Loss: 2.4361\n",
            "Step 1500 | Val Loss: 2.4236 | LR: 0.000100\n",
            "Best model saved Val Loss: 2.4236\n",
            "Step 1600 | Val Loss: 2.4079 | LR: 0.000100\n",
            "Best model saved Val Loss: 2.4079\n",
            "Step 1700 | Val Loss: 2.3956 | LR: 0.000100\n",
            "Best model saved Val Loss: 2.3956\n",
            "Step 1800 | Val Loss: 2.3836 | LR: 0.000100\n",
            "Best model saved Val Loss: 2.3836\n",
            "Step 1900 | Val Loss: 2.3765 | LR: 0.000100\n",
            "Best model saved Val Loss: 2.3765\n",
            "Step 1999 | Val Loss: 2.3637 | LR: 0.000100\n",
            "Best model saved Val Loss: 2.3637\n"
          ]
        }
      ]
    },
    {
      "cell_type": "code",
      "source": [
        "visualize(train_losses, val_losses, val_steps)"
      ],
      "metadata": {
        "colab": {
          "base_uri": "https://localhost:8080/",
          "height": 472
        },
        "id": "bzc5d4R3Rjwz",
        "outputId": "c50e93b9-1dbb-449d-be7b-9086796706e5"
      },
      "execution_count": 45,
      "outputs": [
        {
          "output_type": "display_data",
          "data": {
            "text/plain": [
              "<Figure size 640x480 with 1 Axes>"
            ],
            "image/png": "[encoded data removed]"
          },
          "metadata": {}
        }
      ]
    },
    {
      "cell_type": "code",
      "source": [
        "test_generation()"
      ],
      "metadata": {
        "colab": {
          "base_uri": "https://localhost:8080/"
        },
        "id": "PA23USBHRnCH",
        "outputId": "4b90482a-fd09-4fc0-a6f1-b5f03f5fc20c"
      },
      "execution_count": 46,
      "outputs": [
        {
          "output_type": "stream",
          "name": "stdout",
          "text": [
            "Prompt: '<user>Hello, how are you?'\n",
            "Generated: 'Hello, how are you? I've put a volice office from you and start . I am really sorry .\n",
            " Yes , it's so good , so I've been working before this file past time.Is just actually hey will spend a rush all at the airline ?\n",
            " Hello ? Can you write the time a ball.If I haven't done any specially lately .\n",
            " How is your televished visit ? You can buy any of him in transline too.We ' s either , you don't don't do anything.It ' s so bothering her .\n",
            "\n",
            " Flight Turn on business .\n",
            " It's beef yet . I figured her all day now .\n",
            " Is the television that you think I have done ?\n",
            " She is 120 ticket to be the several pants there incredible ball in year .\n",
            "\n",
            " How ' s the number ?\n",
            " It ' s funny tall game here , sir .\n",
            " How do the fare last times ?\n",
            " The next stuff is well busy with the backpare .\n",
            " Then tell us the ball beef . Besides , you ' ll keep in the next block . I am afraid you ' d love it.We will help the beach here on the sun . Besides , the Besides .\n",
            " Okay . When will you have it ?\n",
            " Happy Peter for this ! It ' s the bridates eleven hours hour in the floor city .\n",
            " Now you just stay in and let ' s get later , we know , of course.Teerally , I will be in very nurservous .\n",
            "\n",
            " When should I stay at the Bob ? After to meet you in and will be here for calling me . You ' re interested you and the sec'\n",
            "\n",
            "Prompt: '<user>What's the weather like?'\n",
            "Generated: 'What's the weather like? The second are not in the field .\n",
            " But anything of them to say it should be convented yet .\n",
            " Well , that's the best reason for it.It will be extra policy of every hot marger for eight in China markets . You need to go to Market , fine , because they get on their cloth-eccerator from the plantic street and then be dated on shipment .\n",
            "\n",
            " Did you always tell that many bad cars are ?\n",
            " No , I'll tell them they were well .\n",
            " Doing ever you ask to pay for another company ?\n",
            " I also had got market .\n",
            " And cool , Jack did something to do it done as possible and did always been all of my life .\n",
            "\n",
            " What's this this a wedding last night ?\n",
            " I used to discuss all time .\n",
            "\n",
            " Excuse me . What is the owich flight ?\n",
            " It looks really like this wedding out this .\n",
            " It seems a low big favorite . Happy quite a journey .\n",
            " Who was my brother ? I am interested inspection is making me .\n",
            " Maybe ... Bark is so easy to spr than me at home . How much can I finish and put it down after his fials wedding ?\n",
            " In about the afternoon 160 food status at Friday we have reheption . What about Daniel , Sir ?\n",
            " It's a five big kids one who building a picture from the beginning.Can you excit me well that's  2500 yuan a month ?\n",
            " That's not my favorite decision . Is there a special fashion inson cash ?\n",
            " It seems to be'\n",
            "\n",
            "Prompt: '<user>Tell me a joke'\n",
            "Generated: 'Tell me a joke steer . They have paid , math gascomatemes , and fish cultural ..5 , there's a pan .\n",
            " Oh , that's fine for me , ok , what kind of juice does it look over ?\n",
            " Just have I'm sorry.Anyway I thought I went over there time , or for easy we just give out an insurance for the last date and something serious . The last place I were exactly completely fish or the stew things . I thought you could cool this certificate . Do you think you need better chefer ?\n",
            " That's not meat . There's a complete difference experience .\n",
            " Will it be be any chef ?\n",
            " Don't bother much , forget to move a .\n",
            " Maybe you'll never do that much cheaper again .\n",
            "\n",
            " Excuse me , Dear and Open CPI by these these these are plenty of refinitely .\n",
            " It's just not just a nice hometing flowing from a week , if you don't even think about your passion .\n",
            " What are you talking to it this about ?\n",
            " Well , we watch 2 thin .\n",
            " Oh , yes , I hope so .\n",
            " I see .\n",
            "\n",
            " This is Neally .\n",
            " Let me see it.Am-J ?\n",
            " Air class this morning .\n",
            " Then what ' s it doing ?\n",
            " Well .. we can make it the ticket . We need it on and put it on then on my heat . You can't stay it for a while .\n",
            "\n",
            " What ! Anyway , what shall we watch ?\n",
            " We have a seat for a longer hour for our morning .\n",
            " Fine . What's the game ?\n",
            " I don't just forget about it today  1230 .\n",
            "\n",
            " You'\n",
            "\n"
          ]
        }
      ]
    },
    {
      "cell_type": "code",
      "source": [],
      "metadata": {
        "id": "H-HJAIhuRs0n"
      },
      "execution_count": null,
      "outputs": []
    }
  ]
}
{
  "nbformat": 4,
  "nbformat_minor": 0,
  "metadata": {
    "colab": {
      "provenance": [],
      "gpuType": "T4"
    },
    "kernelspec": {
      "name": "python3",
      "display_name": "Python 3"
    },
    "language_info": {
      "name": "python"
    },
    "accelerator": "GPU"
  },
  "cells": [
    {
      "cell_type": "code",
      "execution_count": 1,
      "metadata": {
        "colab": {
          "base_uri": "https://localhost:8080/"
        },
        "id": "phHmG11cX0jL",
        "outputId": "9c00a1e1-9d47-4d36-9c4a-32dec585e98d"
      },
      "outputs": [
        {
          "output_type": "stream",
          "name": "stdout",
          "text": [
            "Cloning into 'NeuroFormer2.0'...\n",
            "remote: Enumerating objects: 52, done.\u001b[K\n",
            "remote: Counting objects: 100% (52/52), done.\u001b[K\n",
            "remote: Compressing objects: 100% (35/35), done.\u001b[K\n",
            "remote: Total 52 (delta 16), reused 44 (delta 11), pack-reused 0 (from 0)\u001b[K\n",
            "Receiving objects: 100% (52/52), 4.91 MiB | 11.25 MiB/s, done.\n",
            "Resolving deltas: 100% (16/16), done.\n"
          ]
        }
      ],
      "source": [
        "!git clone https://github.com/ayanokojix21/NeuroFormer2.0.git"
      ]
    },
    {
      "cell_type": "code",
      "source": [
        "%cd NeuroFormer2.0"
      ],
      "metadata": {
        "colab": {
          "base_uri": "https://localhost:8080/"
        },
        "id": "uf_RrpZ1bDOc",
        "outputId": "5f32ea17-2864-4505-d55a-34ee3c9e71ed"
      },
      "execution_count": 2,
      "outputs": [
        {
          "output_type": "stream",
          "name": "stdout",
          "text": [
            "/content/NeuroFormer2.0\n"
          ]
        }
      ]
    },
    {
      "cell_type": "code",
      "source": [
        "# Importing Libraries\n",
        "import torch\n",
        "import torch.nn as nn\n",
        "import torch.optim as optim\n",
        "from torch.optim.lr_scheduler import ReduceLROnPlateau\n",
        "import os\n",
        "import matplotlib.pyplot as plt\n",
        "import json"
      ],
      "metadata": {
        "id": "wH-3mvuxb7XX"
      },
      "execution_count": 3,
      "outputs": []
    },
    {
      "cell_type": "code",
      "source": [
        "from model.neuroformer import NeuroFormer\n",
        "from data.dataloader import load_data\n",
        "from tokenizers import Tokenizer"
      ],
      "metadata": {
        "id": "mfsiGjl3oh9e"
      },
      "execution_count": 4,
      "outputs": []
    },
    {
      "cell_type": "code",
      "source": [
        "# Setting Device to GPU\n",
        "device = torch.device('cuda' if torch.cuda.is_available() else 'cpu')\n",
        "device"
      ],
      "metadata": {
        "colab": {
          "base_uri": "https://localhost:8080/"
        },
        "id": "rHICWy9LoxQj",
        "outputId": "8ce76cf2-e378-4cea-b858-ae8fe5508aa3"
      },
      "execution_count": 5,
      "outputs": [
        {
          "output_type": "execute_result",
          "data": {
            "text/plain": [
              "device(type='cuda')"
            ]
          },
          "metadata": {},
          "execution_count": 5
        }
      ]
    },
    {
      "cell_type": "code",
      "source": [
        "# For Reproducibility\n",
        "torch.manual_seed(42)\n",
        "if torch.cuda.is_available():\n",
        "    torch.cuda.manual_seed(42)"
      ],
      "metadata": {
        "id": "E1C3xfQZo7Vs"
      },
      "execution_count": 6,
      "outputs": []
    },
    {
      "cell_type": "code",
      "source": [
        "# Loading Custom trained tokenizer\n",
        "tokenizer = Tokenizer.from_file(\"tokenizer/bpe_tokenizer.json\")\n",
        "vocab_size = tokenizer.get_vocab_size()\n",
        "print(f\"Loaded tokenizer with vocab size: {vocab_size}\")"
      ],
      "metadata": {
        "colab": {
          "base_uri": "https://localhost:8080/"
        },
        "id": "3fmIuH3Co-8P",
        "outputId": "1340a9de-79b9-42c8-f1fe-24bbf5387a52"
      },
      "execution_count": 7,
      "outputs": [
        {
          "output_type": "stream",
          "name": "stdout",
          "text": [
            "Loaded tokenizer with vocab size: 2000\n"
          ]
        }
      ]
    },
    {
      "cell_type": "code",
      "source": [
        "# Getting Special Token Ids\n",
        "special_tokens = {\n",
        "    'pad_id': tokenizer.token_to_id(\"<pad>\"),\n",
        "    'unk_id': tokenizer.token_to_id(\"<unk>\"),\n",
        "    'bos_id': tokenizer.token_to_id(\"<bos>\"),\n",
        "    'eos_id': tokenizer.token_to_id(\"<eos>\"),\n",
        "    'user_id': tokenizer.token_to_id(\"<user>\"),\n",
        "    'assistant_id': tokenizer.token_to_id(\"<assistant>\")\n",
        "}\n",
        "print(f\"Special tokens: {special_tokens}\")"
      ],
      "metadata": {
        "colab": {
          "base_uri": "https://localhost:8080/"
        },
        "id": "Ii5fX3WTpCxX",
        "outputId": "11aae71c-5082-4912-daed-6a7578a5023a"
      },
      "execution_count": 8,
      "outputs": [
        {
          "output_type": "stream",
          "name": "stdout",
          "text": [
            "Special tokens: {'pad_id': 1994, 'unk_id': 1995, 'bos_id': 1996, 'eos_id': 1997, 'user_id': 1998, 'assistant_id': 1999}\n"
          ]
        }
      ]
    },
    {
      "cell_type": "code",
      "source": [
        "# Model HyperParameters\n",
        "vocab_size = vocab_size\n",
        "sequence_length = 512\n",
        "d_model = 512\n",
        "num_heads = 8\n",
        "hidden = 4 * d_model\n",
        "num_layers = 6\n",
        "drop_prob = 0.2"
      ],
      "metadata": {
        "id": "U0D26ZXApPoO"
      },
      "execution_count": 15,
      "outputs": []
    },
    {
      "cell_type": "code",
      "source": [
        "# Training HyperParameters\n",
        "batch_size = 32\n",
        "total_steps = 4000\n",
        "lr = 3e-4\n",
        "weight_decay = 0.01\n",
        "max_grad_norm = 1.0\n",
        "eval_interval = 200\n",
        "best_model_path = 'model/best_model.pt'\n",
        "os.makedirs('model', exist_ok=True)"
      ],
      "metadata": {
        "id": "mRSCUK_WqIX8"
      },
      "execution_count": 16,
      "outputs": []
    },
    {
      "cell_type": "code",
      "source": [
        "train_path = 'data/shakespeare_train.txt'\n",
        "valid_path = 'data/shakespeare_val.txt'\n",
        "\n",
        "with open(train_path, 'r', encoding='utf-8') as f:\n",
        "    train_text = f.read()\n",
        "\n",
        "with open(valid_path, 'r', encoding='utf-8') as f:\n",
        "    valid_text = f.read()"
      ],
      "metadata": {
        "id": "XkQO9PgAsIpP"
      },
      "execution_count": 17,
      "outputs": []
    },
    {
      "cell_type": "code",
      "source": [
        "train_loader = load_data(\n",
        "    text=train_text,\n",
        "    tokenizer=tokenizer,\n",
        "    batch_size=batch_size,\n",
        "    max_length=sequence_length,\n",
        "    stride=sequence_length // 16,\n",
        "    shuffle=True,\n",
        "    drop_last=True\n",
        ")\n",
        "\n",
        "valid_loader = load_data(\n",
        "    text=valid_text,\n",
        "    tokenizer=tokenizer,\n",
        "    batch_size=batch_size,\n",
        "    max_length=sequence_length,\n",
        "    stride=sequence_length // 16,\n",
        "    shuffle=False,\n",
        "    drop_last=False\n",
        ")\n",
        "\n",
        "print(f\"Training batches: {len(train_loader)}\")\n",
        "print(f\"Validation batches: {len(valid_loader)}\")"
      ],
      "metadata": {
        "colab": {
          "base_uri": "https://localhost:8080/"
        },
        "id": "I9zYmAV8tNrZ",
        "outputId": "921830b7-6d03-4d27-ccbb-f38a8b469668"
      },
      "execution_count": 18,
      "outputs": [
        {
          "output_type": "stream",
          "name": "stdout",
          "text": [
            "Training batches: 1449\n",
            "Validation batches: 164\n"
          ]
        }
      ]
    },
    {
      "cell_type": "code",
      "source": [
        "model = NeuroFormer(\n",
        "    vocab_size=vocab_size,\n",
        "    sequence_length=sequence_length,\n",
        "    d_model=d_model,\n",
        "    num_heads=num_heads,\n",
        "    hidden=hidden,\n",
        "    num_layers=num_layers,\n",
        "    drop_prob=drop_prob\n",
        ").to(device)\n",
        "\n",
        "total_params = sum(p.numel() for p in model.parameters())\n",
        "print(f\"Total parameters: {total_params:,}\")"
      ],
      "metadata": {
        "colab": {
          "base_uri": "https://localhost:8080/"
        },
        "id": "MX2lZtJAtVJw",
        "outputId": "d586124c-9a25-441e-c4f2-d5d83c1fc6aa"
      },
      "execution_count": 19,
      "outputs": [
        {
          "output_type": "stream",
          "name": "stdout",
          "text": [
            "Total parameters: 20,201,472\n"
          ]
        }
      ]
    },
    {
      "cell_type": "code",
      "source": [
        "optimizer = optim.AdamW(model.parameters(), lr=lr, weight_decay=weight_decay)\n",
        "criterion = nn.CrossEntropyLoss(ignore_index=special_tokens['pad_id'])\n",
        "\n",
        "lr_scheduler = ReduceLROnPlateau(\n",
        "    optimizer,\n",
        "    mode='min',\n",
        "    factor=0.5,\n",
        "    patience=2,\n",
        "    threshold=3e-4,\n",
        "    min_lr=1e-6,\n",
        ")"
      ],
      "metadata": {
        "id": "ixI5Wz_tupw4"
      },
      "execution_count": 20,
      "outputs": []
    },
    {
      "cell_type": "code",
      "source": [
        "def evaluate_model():\n",
        "    \"\"\"Evaluate model on validation set\"\"\"\n",
        "\n",
        "    model.eval()\n",
        "    total_loss = 0.0\n",
        "\n",
        "    with torch.no_grad():\n",
        "        for input_ids, target_ids in valid_loader:\n",
        "            input_ids = input_ids.to(device)\n",
        "            target_ids = target_ids.to(device)\n",
        "\n",
        "            logits = model(input_ids)\n",
        "            loss = criterion(logits.view(-1, logits.size(-1)), target_ids.view(-1))\n",
        "\n",
        "            total_loss += loss.item()\n",
        "\n",
        "    avg_loss = total_loss / len(valid_loader)\n",
        "\n",
        "    return avg_loss"
      ],
      "metadata": {
        "id": "GHYdzWpaw1qR"
      },
      "execution_count": 21,
      "outputs": []
    },
    {
      "cell_type": "code",
      "source": [
        "def train_model():\n",
        "    \"\"\"Main training loop\"\"\"\n",
        "\n",
        "    model.train()\n",
        "    best_val_loss = float('inf')\n",
        "    step = 0\n",
        "\n",
        "    train_losses, val_losses, val_steps = [], [], []\n",
        "\n",
        "    while step < total_steps:\n",
        "        for input_ids, target_ids in train_loader:\n",
        "            if step >= total_steps:\n",
        "                break\n",
        "\n",
        "            input_ids = input_ids.to(device)\n",
        "            target_ids = target_ids.to(device)\n",
        "\n",
        "            optimizer.zero_grad()\n",
        "            logits = model(input_ids)\n",
        "            loss = criterion(logits.view(-1, logits.size(-1)), target_ids.view(-1))\n",
        "\n",
        "            loss.backward()\n",
        "            torch.nn.utils.clip_grad_norm_(model.parameters(), max_grad_norm)\n",
        "            optimizer.step()\n",
        "\n",
        "            train_losses.append(loss.item())\n",
        "\n",
        "            if step % eval_interval == 0 or step == total_steps-1:\n",
        "                val_loss = evaluate_model()\n",
        "                val_losses.append(val_loss)\n",
        "                val_steps.append(step)\n",
        "\n",
        "                model.train()\n",
        "\n",
        "                print(f\"Step {step:4d} | Val Loss: {val_loss:.4f} | LR: {optimizer.param_groups[0]['lr']:.6f}\")\n",
        "\n",
        "                lr_scheduler.step(val_loss)\n",
        "\n",
        "                if val_loss < best_val_loss:\n",
        "                    best_val_loss = val_loss\n",
        "                    torch.save(model.state_dict(), best_model_path)\n",
        "                    print(f\"Best model saved Val Loss: {val_loss:.4f}\")\n",
        "\n",
        "            step += 1\n",
        "\n",
        "    return train_losses, val_losses, val_steps"
      ],
      "metadata": {
        "id": "B3kquGBi3CVj"
      },
      "execution_count": 22,
      "outputs": []
    },
    {
      "cell_type": "code",
      "source": [
        "def visualize(train_losses, val_losses, val_steps):\n",
        "    plt.plot(train_losses, label='Train Loss')\n",
        "    plt.plot(val_steps, val_losses, label='Val Loss')\n",
        "    plt.xlabel('Steps')\n",
        "    plt.ylabel('Loss')\n",
        "    plt.title('Training and Validation Loss')\n",
        "    plt.legend()\n",
        "    plt.show()"
      ],
      "metadata": {
        "id": "q9eT3YTu4ysn"
      },
      "execution_count": 23,
      "outputs": []
    },
    {
      "cell_type": "code",
      "source": [
        "def test_generation():\n",
        "    \"\"\"Test text generation after training\"\"\"\n",
        "\n",
        "    model.eval()\n",
        "\n",
        "    if os.path.exists(best_model_path):\n",
        "        model.load_state_dict(torch.load(best_model_path, map_location=device))\n",
        "\n",
        "    test_prompts = [\n",
        "        \"To be or not to be\",\n",
        "        \"Romeo and Juliet\",\n",
        "        \"The quick brown fox\"\n",
        "    ]\n",
        "\n",
        "    for prompt in test_prompts:\n",
        "\n",
        "        full_prompt = f\"<bos>{prompt}\"\n",
        "        encoded = tokenizer.encode(full_prompt)\n",
        "        input_ids = torch.tensor([encoded.ids], dtype=torch.long).to(device)\n",
        "\n",
        "        with torch.no_grad():\n",
        "            generated = model.generate(\n",
        "                input_ids=input_ids,\n",
        "                max_length=500,\n",
        "                temperature=1.3,\n",
        "                top_k=100,\n",
        "                top_p=0.9,\n",
        "                eos_token_id=special_tokens['eos_id']\n",
        "            )\n",
        "\n",
        "        generated_text = tokenizer.decode(generated[0].cpu().tolist())\n",
        "        print(f\"Prompt: '{prompt}'\")\n",
        "        print(f\"Generated: '{generated_text}'\\n\")"
      ],
      "metadata": {
        "id": "fGjigAU45y7_"
      },
      "execution_count": 30,
      "outputs": []
    },
    {
      "cell_type": "code",
      "source": [
        "train_losses, val_losses, val_steps = train_model()"
      ],
      "metadata": {
        "colab": {
          "base_uri": "https://localhost:8080/"
        },
        "id": "e3rtmYChH7j4",
        "outputId": "0217b760-92ff-4c17-8563-447985d1c973"
      },
      "execution_count": 25,
      "outputs": [
        {
          "output_type": "stream",
          "name": "stdout",
          "text": [
            "Step    0 | Val Loss: 7.3463 | LR: 0.000300\n",
            "Best model saved Val Loss: 7.3463\n",
            "Step  300 | Val Loss: 4.7625 | LR: 0.000300\n",
            "Best model saved Val Loss: 4.7625\n",
            "Step  600 | Val Loss: 4.5448 | LR: 0.000300\n",
            "Best model saved Val Loss: 4.5448\n",
            "Step  900 | Val Loss: 4.3951 | LR: 0.000300\n",
            "Best model saved Val Loss: 4.3951\n",
            "Step 1200 | Val Loss: 4.2445 | LR: 0.000300\n",
            "Best model saved Val Loss: 4.2445\n",
            "Step 1500 | Val Loss: 4.1191 | LR: 0.000300\n",
            "Best model saved Val Loss: 4.1191\n",
            "Step 1800 | Val Loss: 4.0323 | LR: 0.000300\n",
            "Best model saved Val Loss: 4.0323\n",
            "Step 2100 | Val Loss: 3.9652 | LR: 0.000300\n",
            "Best model saved Val Loss: 3.9652\n",
            "Step 2400 | Val Loss: 3.9356 | LR: 0.000300\n",
            "Best model saved Val Loss: 3.9356\n",
            "Step 2700 | Val Loss: 3.9067 | LR: 0.000300\n",
            "Best model saved Val Loss: 3.9067\n",
            "Step 2999 | Val Loss: 3.9044 | LR: 0.000300\n",
            "Best model saved Val Loss: 3.9044\n"
          ]
        }
      ]
    },
    {
      "cell_type": "code",
      "source": [
        "visualize(train_losses, val_losses, val_steps)"
      ],
      "metadata": {
        "colab": {
          "base_uri": "https://localhost:8080/",
          "height": 472
        },
        "id": "bzc5d4R3Rjwz",
        "outputId": "d8eba1db-0d80-41cb-cb7d-bde298426822"
      },
      "execution_count": 26,
      "outputs": [
        {
          "output_type": "display_data",
          "data": {
            "text/plain": [
              "<Figure size 640x480 with 1 Axes>"
            ],
            "image/png": "[encoded data removed]"
          },
          "metadata": {}
        }
      ]
    },
    {
      "cell_type": "code",
      "source": [
        "test_generation()"
      ],
      "metadata": {
        "colab": {
          "base_uri": "https://localhost:8080/"
        },
        "id": "PA23USBHRnCH",
        "outputId": "59d2277f-a6b9-4306-e96f-8107e735cc17"
      },
      "execution_count": 31,
      "outputs": [
        {
          "output_type": "stream",
          "name": "stdout",
          "text": [
            "Prompt: 'To be or not to be'\n",
            "Generated: 'To be or not to be fearful. LADYSANDER. Not so in mine own fault, but to do as my sorrow too! BEROWNE. How sayingale, why sin a dozen fantast; I am thyself angaming knight, and therefore can I love no farther; the better for my duke. BEROWNE. If these can carry with a bond; and with another dukin, I tell you my knee. Had he not that tongue that maintain a man as He is to scorn to a man. I will be reveng'd ere now, I hope mine own hands be honest; and therefore tell you my gain. CLARENCE. No; I look my sadness grows stronger than a coward; For what dealks have merites, can say: A plague of saints are in me, and their praise defence. Better in vain is better judg'd than they; and for their fear have not in the grace of them. Stay, Hall, gentle South, you are too feasters true; your father's peace, not a memory any reason Which in the world he hath done their oath, Which to make the streets; here's the commons of war There's measure, we hold our cause. And thus I met, forbid, your granted country. My spirits shall be too parallel for your son, Not for your subject, like rightit To make such kind feathers; but for I Have written like those in thine art. HOSTESS. The King hath a receiv'd you so much unconceed. BEROWNE. I must die a man but die. LONGAVILLE. And who knows not, poor Taking for all such expectation. Enter BEROWNE. Not so, who's that? BEROWNE. Led he swore is shook abroad, if he be a traitor; My love is so unkind to speak. WAE. In truth hath he. Your fair son's will make it good; and they are well in vain's endeavour. Their widow stretch and of mine eye is spend'\n",
            "\n",
            "Prompt: 'Romeo and Juliet'\n",
            "Generated: 'Romeo and Juliet's wife Sleep'd her husband, drives and mine; She vessel me than the Empress with the scene of day; Turns her from his funeral scatter'd summer. I kiss'd some light-fairing day; And then have a saint with a thousand marks, Turn in potent and by me they pass; And,, which in embassy. LUCENTIO. I saw her husband here of forsworn. Ha! 'Tis her ministory and her son; For, her threat' off'ning shall not entreat him again, But in repeated, which the old Brought, I see this other of his hand he had the way to, And by for him have all his best turn'd, Wastings not my stately in such a sin to exile, Moor steal. Yet let her endure me, when time Have I laid the ball of it, stir thee To the zeal of it; But in my life I see thy head the water's flood, And the thief which it were my dear, Christian bigger with his body with his meed eyes, Save this roured father. Hang it down by that which you call it while the store, And made minutiny where it stouts; and, when from hence, I found to bear, I have it too. Hark, what, you know, Money by his house in your births, And fresh-foot and nin'd awhile. Hail, I will follow you with him. And tell my oldest daughter where I am right. Hortensio, wast thou liv'd, to cut me on the way Or lose thy father; she is forsweard Must in conclusion as thou wouldst, To get you to go unto the world's ghost, By you thou shalt know, but if thou mayst, 'twere but the pretty thing assuring. And do I speak to thee, 'tis six wealth and fought, And for their gamesse costard toward our sister? HORTENSIO. No, sir'\n",
            "\n",
            "Prompt: 'The quick brown fox'\n",
            "Generated: 'The quick brown fox, but to my book and gracious eyes Did match up his life for his wore And not be blazed with frank-marous pallets for his ragged time; Now no, do not mandragre upon a little girl with roar in robe a thing To tub his root and ostente to laugh large; We are deceives to railing shines and th' drench and thrown, That is the jest bosom to hell! But, if you should love the joining feet did, Thus do not harm the sun, 'Bruot you!' Or else am 'Ah!' With saints you are blame, Tombalt debted, and to 't; and so your heart Can do a whit upon you? I am an adder basad; I'll not a blot-void the blanket-cock! The Man! what tree-fac'd man so? If thrice that, then? Why think'st thou, Jack man, or, bare- Adam, there were fiful, the eleven would make an efflection, would it! If any man will serve a rope, I'll keep his tart, or no meant at this face. God and that with the pearls; if there be drown'd. Well, 'tis any sort. Dungeons not a pure in th' right, then it seems not to fear us what they say, there is the worser sings for? They speak and men may do nothing to see an if they have thirty and angel; what say of them they are! a dog but as they do, it would say what they shall? The one shall hold no fearing men's a bird heed me to see no face than the verge for Promise wits to use them than those that hear the morns do theme That ever the spur of the fashion makes, Or with throwing a dust doth ope the hell. And this they shall th' court groan again, M'\n",
            "\n"
          ]
        }
      ]
    },
    {
      "cell_type": "code",
      "source": [],
      "metadata": {
        "id": "H-HJAIhuRs0n"
      },
      "execution_count": null,
      "outputs": []
    }
  ]
}